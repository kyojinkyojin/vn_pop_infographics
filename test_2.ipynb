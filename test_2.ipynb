{
 "cells": [
  {
   "cell_type": "code",
   "execution_count": 22,
   "metadata": {},
   "outputs": [
    {
     "name": "stdout",
     "output_type": "stream",
     "text": [
      "<GeometryArray>\n",
      "[<POLYGON ((1 0, 0 0, 0 1, 1 1, 1 0))>]\n",
      "Length: 1, dtype: geometry\n"
     ]
    }
   ],
   "source": [
    "import geopandas as gpd\n",
    "from shapely.geometry import Polygon\n",
    "from shapely.ops import unary_union\n",
    "\n",
    "# Define a list of polygons\n",
    "polygons = [\n",
    "    Polygon([(0, 0), (1, 0), (1, 1), (0, 1)]),\n",
    "    Polygon([(1, 1), (2, 1), (2, 2), (1, 2)]),\n",
    "    Polygon([(2, 2), (3, 2), (3, 3), (2, 3)])\n",
    "]\n",
    "\n",
    "# Create a GeoDataFrame\n",
    "gdf = gpd.GeoDataFrame({'geometry': polygons})\n",
    "\n",
    "# Perform unary union to merge all geometries\n",
    "merged = unary_union(gdf.geometry)\n",
    "\n",
    "# If the result is a MultiPolygon, merge it into a single Polygon\n",
    "if merged.geom_type == 'MultiPolygon':\n",
    "    # Select the largest polygon by area\n",
    "    largest_polygon = max(merged.geoms, key=lambda a: a.area)\n",
    "else:\n",
    "    largest_polygon = merged\n",
    "\n",
    "# Create a new GeoDataFrame with the merged polygon\n",
    "merged_gdf = gpd.GeoDataFrame({'geometry': [largest_polygon]}, crs=gdf.crs)\n",
    "\n",
    "# Print the merged GeoDataFrame\n",
    "print(merged_gdf.iloc[0].values)"
   ]
  },
  {
   "cell_type": "code",
   "execution_count": null,
   "metadata": {},
   "outputs": [],
   "source": []
  }
 ],
 "metadata": {
  "kernelspec": {
   "display_name": "manim2023",
   "language": "python",
   "name": "python3"
  },
  "language_info": {
   "codemirror_mode": {
    "name": "ipython",
    "version": 3
   },
   "file_extension": ".py",
   "mimetype": "text/x-python",
   "name": "python",
   "nbconvert_exporter": "python",
   "pygments_lexer": "ipython3",
   "version": "3.10.6"
  }
 },
 "nbformat": 4,
 "nbformat_minor": 2
}
